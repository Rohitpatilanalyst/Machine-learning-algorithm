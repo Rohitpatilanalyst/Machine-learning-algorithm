{
 "cells": [
  {
   "cell_type": "code",
   "execution_count": 2,
   "metadata": {},
   "outputs": [
    {
     "name": "stderr",
     "output_type": "stream",
     "text": [
      "C:\\Users\\adm\\Anaconda3\\lib\\site-packages\\sklearn\\cross_validation.py:41: DeprecationWarning: This module was deprecated in version 0.18 in favor of the model_selection module into which all the refactored classes and functions are moved. Also note that the interface of the new CV iterators are different from that of this module. This module will be removed in 0.20.\n",
      "  \"This module will be removed in 0.20.\", DeprecationWarning)\n"
     ]
    }
   ],
   "source": [
    "import numpy as np\n",
    "import pandas as pd\n",
    "import seaborn as sb\n",
    "import matplotlib.pyplot as plt\n",
    "import sklearn\n",
    "\n",
    "from pandas import Series, DataFrame\n",
    "from pylab import rcParams\n",
    "from sklearn import preprocessing\n",
    "from sklearn.linear_model import LogisticRegression\n",
    "from sklearn.cross_validation import train_test_split\n",
    "from sklearn import metrics \n",
    "from sklearn.metrics import classification_report\n",
    "\n",
    " "
   ]
  },
  {
   "cell_type": "code",
   "execution_count": 24,
   "metadata": {},
   "outputs": [
    {
     "data": {
      "text/plain": [
       "<matplotlib.axes._subplots.AxesSubplot at 0x2a86309b9b0>"
      ]
     },
     "execution_count": 24,
     "metadata": {},
     "output_type": "execute_result"
    },
    {
     "data": {
      "image/png": "[encoded data removed]",
      "text/plain": [
       "<Figure size 432x288 with 1 Axes>"
      ]
     },
     "metadata": {},
     "output_type": "display_data"
    }
   ],
   "source": [
    "from sklearn.metrics import accuracy_score\n",
    "link = \"G:/Machine learning with python/nba_logreg.csv\"\n",
    "data = pd.read_csv(link)\n",
    "#specification of input and output variables \n",
    "X = data.iloc[:, 16:20].values  \n",
    "y = data.iloc[:, 20].values\n",
    "\n",
    "sb.countplot(x='TARGET_5Yrs',data=data, palette='hls')\n",
    "\n",
    "\n"
   ]
  },
  {
   "cell_type": "code",
   "execution_count": 27,
   "metadata": {},
   "outputs": [
    {
     "data": {
      "text/plain": [
       "array([[0.02902731, 0.3092726 , 0.95299253, 0.60123162]])"
      ]
     },
     "execution_count": 27,
     "metadata": {},
     "output_type": "execute_result"
    }
   ],
   "source": [
    "#print(X) \n",
    "# split the dataset to train and test set\n",
    "X_train, X_test, y_train, y_test = train_test_split(X, y, test_size=0.2, random_state=0) # 80% trainset and 20% tes\n",
    "# create logistic regression\n",
    "model = LogisticRegression()\n",
    "model.fit(X_train, y_train)\n",
    "pred_logistic = model.predict(X_test)\n",
    "#pred_logistic.shape   # dim of prediction\n",
    "# Making the confusion matrix \n",
    "from sklearn.metrics import confusion_matrix\n",
    "cm = confusion_matrix(y_test,pred_logistic)\n",
    " \n",
    "acu_logistic = accuracy_score(y_test,pred_logistic)\n",
    "#model.summary()  \n",
    "#data.head()\n",
    "#data.info()\n",
    "\n",
    "model.coef_"
   ]
  },
  {
   "cell_type": "code",
   "execution_count": 25,
   "metadata": {},
   "outputs": [
    {
     "data": {
      "text/plain": [
       "array([0.63742164, 0.65904179, 0.63493657, 0.63901919, 0.64674067,\n",
       "       0.62541045])"
      ]
     },
     "execution_count": 25,
     "metadata": {},
     "output_type": "execute_result"
    }
   ],
   "source": [
    "k=1000\n",
    "mc = np.zeros(6)\n",
    "for j in range(1,1000):\n",
    "    result_array = np.array([])\n",
    "    ratio=[0.4,0.5,0.6,0.7,0.8,0.9]\n",
    "    for i in ratio:\n",
    "        X_train, X_test, y_train, y_test = train_test_split(X, y, test_size=i, random_state=0)  \n",
    "        model = LogisticRegression()\n",
    "        model.fit(X_train, y_train)\n",
    "        pred_logistic = model.predict(X_test)\n",
    "    #pred_logistic.shape   # dim of prediction\n",
    "        acu_logistic = accuracy_score(y_test,pred_logistic)\n",
    "        result_array = np.append(result_array, acu_logistic)\n",
    "    mc=mc+(1/k)*result_array\n",
    "    \n",
    "mc\n",
    "     \n",
    "        \n"
   ]
  },
  {
   "cell_type": "code",
   "execution_count": 28,
   "metadata": {},
   "outputs": [
    {
     "data": {
      "image/png": "[encoded data removed]",
      "text/plain": [
       "<Figure size 432x288 with 1 Axes>"
      ]
     },
     "metadata": {},
     "output_type": "display_data"
    }
   ],
   "source": [
    "# performance plot \n",
    "\n",
    "import matplotlib.pyplot as plt\n",
    "plt.style.use('seaborn-whitegrid')\n",
    "plt.plot(ratio, mc, 'o', color='black');"
   ]
  },
  {
   "cell_type": "code",
   "execution_count": 12,
   "metadata": {},
   "outputs": [],
   "source": [
    "# Example 2:  \n",
    "data = pd.read_csv('dataset_GLM.csv')\n",
    "data1 = data.dropna()   # missing values\n",
    "#specification of input and output variables \n",
    "X = data.iloc[:, 16:20].values  \n",
    "y = data.iloc[:, 20].values\n",
    "#data1.head()"
   ]
  },
  {
   "cell_type": "code",
   "execution_count": 8,
   "metadata": {},
   "outputs": [
    {
     "data": {
      "text/plain": [
       "<matplotlib.axes._subplots.AxesSubplot at 0x2a86309f400>"
      ]
     },
     "execution_count": 8,
     "metadata": {},
     "output_type": "execute_result"
    },
    {
     "data": {
      "image/png": "[encoded data removed]",
      "text/plain": [
       "<Figure size 432x288 with 1 Axes>"
      ]
     },
     "metadata": {},
     "output_type": "display_data"
    }
   ],
   "source": [
    "sb.countplot(x='Athlete',data=data1, palette='hls')"
   ]
  },
  {
   "cell_type": "code",
   "execution_count": 9,
   "metadata": {},
   "outputs": [],
   "source": [
    "# split the dataset to train and test set\n",
    "X_train, X_test, y_train, y_test = train_test_split(X, y, test_size=0.2, random_state=0) # 80% trainset and 20% tes\n",
    " "
   ]
  },
  {
   "cell_type": "code",
   "execution_count": 22,
   "metadata": {},
   "outputs": [],
   "source": [
    "# create logistic regression\n",
    "model = LogisticRegression()\n",
    "model.fit(X_train, y_train)\n",
    "pred_logistic = model.predict(X_test)\n",
    "#pred_logistic.shape   # dim of prediction\n",
    "acu_logistic = accuracy_score(y_test,pred_logistic)\n",
    " \n"
   ]
  },
  {
   "cell_type": "code",
   "execution_count": 23,
   "metadata": {},
   "outputs": [
    {
     "name": "stdout",
     "output_type": "stream",
     "text": [
      "AUC: 0.733\n"
     ]
    }
   ],
   "source": [
    "from sklearn.metrics import roc_curve\n",
    "from sklearn.metrics import roc_auc_score\n",
    "probs = model.predict_proba(X_test)\n",
    "# keep probabilities for the positive outcome only\n",
    "probs = probs[:, 1]\n",
    "# calculate AUC\n",
    "auc = roc_auc_score(y_test, probs)\n",
    "print('AUC: %.3f' % auc)\n"
   ]
  },
  {
   "cell_type": "code",
   "execution_count": 120,
   "metadata": {},
   "outputs": [
    {
     "data": {
      "image/png": "[encoded data removed]",
      "text/plain": [
       "<Figure size 432x288 with 1 Axes>"
      ]
     },
     "metadata": {},
     "output_type": "display_data"
    }
   ],
   "source": [
    "# calculate roc curve\n",
    "fpr, tpr, thresholds = roc_curve(y_test, probs)\n",
    "# plot no skill\n",
    "plt.plot([0, 1], [0, 1], linestyle='--')\n",
    "# plot the roc curve for the model\n",
    "plt.plot(fpr, tpr, marker='.')\n",
    "# show the plot\n",
    "plt.show()\n",
    "#info: https://towardsdatascience.com/building-a-logistic-regression-in-python-step-by-step-becd4d56c9c8"
   ]
  },
  {
   "cell_type": "code",
   "execution_count": null,
   "metadata": {},
   "outputs": [],
   "source": [
    "# Making the confusion matrix \n",
    "from sklearn.metrics import confusion_matrix\n",
    "cm = confusion_matrix(y_test,pred_logistic)\n",
    " "
   ]
  },
  {
   "cell_type": "code",
   "execution_count": 112,
   "metadata": {},
   "outputs": [
    {
     "data": {
      "text/plain": [
       "array([0.63742164, 0.65904179, 0.63493657, 0.63901919, 0.64674067,\n",
       "       0.62541045])"
      ]
     },
     "execution_count": 112,
     "metadata": {},
     "output_type": "execute_result"
    }
   ],
   "source": [
    "# for loop for performance prediction\n",
    "\n",
    "link = \"G:/Machine learning with python/nba_logreg.csv\"\n",
    "data = pd.read_csv(link)\n",
    "    #specification of input and output variables \n",
    "X = data.iloc[:, 16:20].values  \n",
    "y = data.iloc[:, 20].values\n",
    "k=1000\n",
    "mc = np.zeros(6)\n",
    "for j in range(1,1000):\n",
    "    result_array = np.array([])\n",
    "    ratio=[0.4,0.5,0.6,0.7,0.8,0.9]\n",
    "    for i in ratio:\n",
    "        X_train, X_test, y_train, y_test = train_test_split(X, y, test_size=i, random_state=0)  \n",
    "        model = LogisticRegression()\n",
    "        model.fit(X_train, y_train)\n",
    "        pred_logistic = model.predict(X_test)\n",
    "    #pred_logistic.shape   # dim of prediction\n",
    "        acu_logistic = accuracy_score(y_test,pred_logistic)\n",
    "        result_array = np.append(result_array, acu_logistic)\n",
    "    mc=mc+(1/k)*result_array\n",
    "    \n",
    "mc\n",
    "     \n",
    "        \n",
    "\n",
    "\n",
    "\n"
   ]
  },
  {
   "cell_type": "code",
   "execution_count": 113,
   "metadata": {},
   "outputs": [
    {
     "data": {
      "image/png": "[encoded data removed]",
      "text/plain": [
       "<Figure size 432x288 with 1 Axes>"
      ]
     },
     "metadata": {},
     "output_type": "display_data"
    }
   ],
   "source": [
    "# performance plot \n",
    "\n",
    "import matplotlib.pyplot as plt\n",
    "plt.style.use('seaborn-whitegrid')\n",
    "plt.plot(ratio, mc, 'o', color='black');"
   ]
  },
  {
   "cell_type": "code",
   "execution_count": 33,
   "metadata": {},
   "outputs": [
    {
     "data": {
      "text/plain": [
       "array([0.41455392, 0.53644759, 0.9768506 , 0.43856966, 0.80166539,\n",
       "       0.51191592, 0.69222106, 0.80585437, 0.61440074, 0.60107169,\n",
       "       0.65550394, 0.57768891, 0.83130719, 0.58629742, 0.75645269,\n",
       "       0.67802882, 0.49065017, 0.958718  , 0.71811925, 0.51673206,\n",
       "       0.6178747 , 0.8249306 , 0.55529   , 0.65449623, 0.83180897,\n",
       "       0.6196839 , 0.5321664 , 0.53833015, 0.7740989 , 0.75027668,\n",
       "       0.85344966, 0.62281344, 0.5345818 , 0.64884155, 0.73824333,\n",
       "       0.65618771, 0.65615913, 0.82872624, 0.48451358, 0.71366002,\n",
       "       0.71905635, 0.97186522, 0.74819663, 0.56756579, 0.54519166,\n",
       "       0.74621548, 0.88968389, 0.48587792, 0.89144992, 0.48557484,\n",
       "       0.52667445, 0.63537421, 0.43310642, 0.68915775, 0.51307371,\n",
       "       0.62200806, 0.54124748, 0.63361662, 0.60205971, 0.55790805,\n",
       "       0.45558297, 0.71360718, 0.49035743, 0.699135  , 0.67994516,\n",
       "       0.63790902, 0.49214477, 0.50418626, 0.59366667, 0.66648992,\n",
       "       0.49180834, 0.69909071, 0.5023563 , 0.5740412 , 0.7740989 ,\n",
       "       0.75695493, 0.53173533, 0.45414343, 0.75608702, 0.53250152,\n",
       "       0.60946711, 0.61782355, 0.42207922, 0.67800898, 0.80883162,\n",
       "       0.54873436, 0.77328859, 0.76355882, 0.41741713, 0.45596908,\n",
       "       0.53318058, 0.82783467, 0.44181443, 0.68377023, 0.50055794,\n",
       "       0.95039024, 0.56409493, 0.57059177, 0.84308222, 0.50900552,\n",
       "       0.81375295, 0.54953955, 0.59475056, 0.6754611 , 0.69652292,\n",
       "       0.6727397 , 0.94811618, 0.57979301, 0.57476982, 0.51712077,\n",
       "       0.81375295, 0.51195957, 0.56866144, 0.48079489, 0.47896628,\n",
       "       0.91432644, 0.62133521, 0.83884977, 0.6185996 , 0.57904305,\n",
       "       0.55174635, 0.81451063, 0.56940435, 0.76045914, 0.45457266,\n",
       "       0.59759657, 0.57594322, 0.42520025, 0.70884649, 0.88771995,\n",
       "       0.648154  , 0.9523154 , 0.75858317, 0.49688742, 0.63737132,\n",
       "       0.54006364, 0.5183304 , 0.77429849, 0.49108287, 0.62754223,\n",
       "       0.53462527, 0.78173196, 0.52658734, 0.47913085, 0.40213286,\n",
       "       0.6202443 , 0.4007379 , 0.80525577, 0.53606047, 0.61695217,\n",
       "       0.72088249, 0.67298622, 0.48297801, 0.89954339, 0.6035219 ,\n",
       "       0.77306845, 0.64614196, 0.53898876, 0.67744081, 0.85332703,\n",
       "       0.45126668, 0.92227717, 0.61753002, 0.62730925, 0.49504702,\n",
       "       0.88630461, 0.88318762, 0.56181613, 0.45050626, 0.45961347,\n",
       "       0.66734817, 0.72719231, 0.71362825, 0.58488859, 0.79704472,\n",
       "       0.59865987, 0.45198557, 0.4613902 , 0.61576674, 0.55241059,\n",
       "       0.71575694, 0.51823421, 0.60920531, 0.45562631, 0.9245546 ,\n",
       "       0.68083112, 0.55423018, 0.85803149, 0.71930015, 0.56912741,\n",
       "       0.82275   , 0.66174802, 0.62686351, 0.61147326, 0.57050765,\n",
       "       0.57556149, 0.63654958, 0.61131804, 0.81831538, 0.87410023,\n",
       "       0.68886932, 0.4733806 , 0.49800223, 0.56651389, 0.54179616,\n",
       "       0.52185525, 0.5603434 , 0.58305753, 0.44724879, 0.53096007,\n",
       "       0.7112655 , 0.59438543, 0.55503352, 0.47096192, 0.56185764,\n",
       "       0.47236508, 0.57092156, 0.60144636, 0.38946595, 0.4767935 ,\n",
       "       0.50602659, 0.79648132, 0.69743043, 0.87088903, 0.56831944,\n",
       "       0.51336635, 0.74874426, 0.92937973, 0.50968728, 0.52657841,\n",
       "       0.67511843, 0.48007925, 0.51997434, 0.6566481 , 0.74266443,\n",
       "       0.55495757, 0.71564711, 0.61617485, 0.6451713 , 0.53831973,\n",
       "       0.55663843, 0.51477445, 0.54843541, 0.8249306 , 0.42349597,\n",
       "       0.73744883, 0.76994513, 0.75775002, 0.56766034, 0.82118538,\n",
       "       0.56505502, 0.79323784, 0.62273278, 0.64453694, 0.5621993 ,\n",
       "       0.43785506, 0.66042694, 0.80799308, 0.48770668, 0.70665358,\n",
       "       0.58193054, 0.95782332, 0.57722532, 0.60292792, 0.57923086,\n",
       "       0.91116501, 0.46287667, 0.79555511])"
      ]
     },
     "execution_count": 33,
     "metadata": {},
     "output_type": "execute_result"
    }
   ],
   "source": [
    "from sklearn.metrics import roc_curve\n",
    "from sklearn.metrics import roc_auc_score\n",
    "probs = model.predict_proba(X_test)\n",
    "\n",
    "# keep probabilities for the positive outcome only\n",
    "probs = probs[:, 1]\n",
    "# calculate AUC\n",
    "auc = roc_auc_score(y_test, probs)\n",
    "#print('AUC: %.3f' % auc)\n",
    "        "
   ]
  },
  {
   "cell_type": "code",
   "execution_count": 29,
   "metadata": {},
   "outputs": [
    {
     "data": {
      "text/plain": [
       "array([0.41455392, 0.53644759, 0.9768506 , 0.43856966, 0.80166539,\n",
       "       0.51191592, 0.69222106, 0.80585437, 0.61440074, 0.60107169,\n",
       "       0.65550394, 0.57768891, 0.83130719, 0.58629742, 0.75645269,\n",
       "       0.67802882, 0.49065017, 0.958718  , 0.71811925, 0.51673206,\n",
       "       0.6178747 , 0.8249306 , 0.55529   , 0.65449623, 0.83180897,\n",
       "       0.6196839 , 0.5321664 , 0.53833015, 0.7740989 , 0.75027668,\n",
       "       0.85344966, 0.62281344, 0.5345818 , 0.64884155, 0.73824333,\n",
       "       0.65618771, 0.65615913, 0.82872624, 0.48451358, 0.71366002,\n",
       "       0.71905635, 0.97186522, 0.74819663, 0.56756579, 0.54519166,\n",
       "       0.74621548, 0.88968389, 0.48587792, 0.89144992, 0.48557484,\n",
       "       0.52667445, 0.63537421, 0.43310642, 0.68915775, 0.51307371,\n",
       "       0.62200806, 0.54124748, 0.63361662, 0.60205971, 0.55790805,\n",
       "       0.45558297, 0.71360718, 0.49035743, 0.699135  , 0.67994516,\n",
       "       0.63790902, 0.49214477, 0.50418626, 0.59366667, 0.66648992,\n",
       "       0.49180834, 0.69909071, 0.5023563 , 0.5740412 , 0.7740989 ,\n",
       "       0.75695493, 0.53173533, 0.45414343, 0.75608702, 0.53250152,\n",
       "       0.60946711, 0.61782355, 0.42207922, 0.67800898, 0.80883162,\n",
       "       0.54873436, 0.77328859, 0.76355882, 0.41741713, 0.45596908,\n",
       "       0.53318058, 0.82783467, 0.44181443, 0.68377023, 0.50055794,\n",
       "       0.95039024, 0.56409493, 0.57059177, 0.84308222, 0.50900552,\n",
       "       0.81375295, 0.54953955, 0.59475056, 0.6754611 , 0.69652292,\n",
       "       0.6727397 , 0.94811618, 0.57979301, 0.57476982, 0.51712077,\n",
       "       0.81375295, 0.51195957, 0.56866144, 0.48079489, 0.47896628,\n",
       "       0.91432644, 0.62133521, 0.83884977, 0.6185996 , 0.57904305,\n",
       "       0.55174635, 0.81451063, 0.56940435, 0.76045914, 0.45457266,\n",
       "       0.59759657, 0.57594322, 0.42520025, 0.70884649, 0.88771995,\n",
       "       0.648154  , 0.9523154 , 0.75858317, 0.49688742, 0.63737132,\n",
       "       0.54006364, 0.5183304 , 0.77429849, 0.49108287, 0.62754223,\n",
       "       0.53462527, 0.78173196, 0.52658734, 0.47913085, 0.40213286,\n",
       "       0.6202443 , 0.4007379 , 0.80525577, 0.53606047, 0.61695217,\n",
       "       0.72088249, 0.67298622, 0.48297801, 0.89954339, 0.6035219 ,\n",
       "       0.77306845, 0.64614196, 0.53898876, 0.67744081, 0.85332703,\n",
       "       0.45126668, 0.92227717, 0.61753002, 0.62730925, 0.49504702,\n",
       "       0.88630461, 0.88318762, 0.56181613, 0.45050626, 0.45961347,\n",
       "       0.66734817, 0.72719231, 0.71362825, 0.58488859, 0.79704472,\n",
       "       0.59865987, 0.45198557, 0.4613902 , 0.61576674, 0.55241059,\n",
       "       0.71575694, 0.51823421, 0.60920531, 0.45562631, 0.9245546 ,\n",
       "       0.68083112, 0.55423018, 0.85803149, 0.71930015, 0.56912741,\n",
       "       0.82275   , 0.66174802, 0.62686351, 0.61147326, 0.57050765,\n",
       "       0.57556149, 0.63654958, 0.61131804, 0.81831538, 0.87410023,\n",
       "       0.68886932, 0.4733806 , 0.49800223, 0.56651389, 0.54179616,\n",
       "       0.52185525, 0.5603434 , 0.58305753, 0.44724879, 0.53096007,\n",
       "       0.7112655 , 0.59438543, 0.55503352, 0.47096192, 0.56185764,\n",
       "       0.47236508, 0.57092156, 0.60144636, 0.38946595, 0.4767935 ,\n",
       "       0.50602659, 0.79648132, 0.69743043, 0.87088903, 0.56831944,\n",
       "       0.51336635, 0.74874426, 0.92937973, 0.50968728, 0.52657841,\n",
       "       0.67511843, 0.48007925, 0.51997434, 0.6566481 , 0.74266443,\n",
       "       0.55495757, 0.71564711, 0.61617485, 0.6451713 , 0.53831973,\n",
       "       0.55663843, 0.51477445, 0.54843541, 0.8249306 , 0.42349597,\n",
       "       0.73744883, 0.76994513, 0.75775002, 0.56766034, 0.82118538,\n",
       "       0.56505502, 0.79323784, 0.62273278, 0.64453694, 0.5621993 ,\n",
       "       0.43785506, 0.66042694, 0.80799308, 0.48770668, 0.70665358,\n",
       "       0.58193054, 0.95782332, 0.57722532, 0.60292792, 0.57923086,\n",
       "       0.91116501, 0.46287667, 0.79555511])"
      ]
     },
     "execution_count": 29,
     "metadata": {},
     "output_type": "execute_result"
    }
   ],
   "source": [
    "probs"
   ]
  },
  {
   "cell_type": "code",
   "execution_count": null,
   "metadata": {},
   "outputs": [],
   "source": []
  }
 ],
 "metadata": {
  "kernelspec": {
   "display_name": "Python 3",
   "language": "python",
   "name": "python3"
  },
  "language_info": {
   "codemirror_mode": {
    "name": "ipython",
    "version": 3
   },
   "file_extension": ".py",
   "mimetype": "text/x-python",
   "name": "python",
   "nbconvert_exporter": "python",
   "pygments_lexer": "ipython3",
   "version": "3.6.5"
  }
 },
 "nbformat": 4,
 "nbformat_minor": 2
}
